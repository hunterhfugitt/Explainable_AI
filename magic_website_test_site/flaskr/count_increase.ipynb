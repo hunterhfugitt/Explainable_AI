{
 "cells": [
  {
   "cell_type": "code",
   "execution_count": 1,
   "metadata": {},
   "outputs": [],
   "source": [
    "# you can write to stdout for debugging purposes, e.g.\n",
    "# print(\"this is a debug message\")\n",
    "\n",
    "def solution(N, A):\n",
    "    # write your code in Python 3.8.10\n",
    "    dict = {}\n",
    "    max = 0\n",
    "    count_increase = 0\n",
    "    #each is the number in the list to increase\n",
    "    for each in A:\n",
    "        if each > N:\n",
    "            count_increase = max\n",
    "        else:\n",
    "            try:\n",
    "                if(dict[each]>=count_increase):\n",
    "                    dict[each] += 1\n",
    "                else:\n",
    "                    dict[each] = 1+count_increase\n",
    "            except:\n",
    "                dict[each] = 1+count_increase\n",
    "            if(max<dict[each]):\n",
    "                max = dict[each]\n",
    "    new_list_C = []\n",
    "    for x in range(1,N+1):\n",
    "        try:\n",
    "            if dict[x] < count_increase:\n",
    "                new_list_C.append(count_increase)\n",
    "            else:\n",
    "                new_list_C.append(dict[x])\n",
    "        except:\n",
    "            new_list_C.append(count_increase)\n",
    "\n",
    "    return(new_list_C)\n"
   ]
  }
 ],
 "metadata": {
  "kernelspec": {
   "display_name": "Python 3.10.5 64-bit",
   "language": "python",
   "name": "python3"
  },
  "language_info": {
   "codemirror_mode": {
    "name": "ipython",
    "version": 3
   },
   "file_extension": ".py",
   "mimetype": "text/x-python",
   "name": "python",
   "nbconvert_exporter": "python",
   "pygments_lexer": "ipython3",
   "version": "3.10.5"
  },
  "orig_nbformat": 4,
  "vscode": {
   "interpreter": {
    "hash": "e7af9e86c3681899aba80f8b0067881b136bce65c27e78bb175258adc8d4bb5d"
   }
  }
 },
 "nbformat": 4,
 "nbformat_minor": 2
}
